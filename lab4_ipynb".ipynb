{
  "nbformat": 4,
  "nbformat_minor": 0,
  "metadata": {
    "colab": {
      "name": "lab4.ipynb\"",
      "provenance": [],
      "collapsed_sections": [],
      "include_colab_link": true
    },
    "kernelspec": {
      "name": "python3",
      "display_name": "Python 3"
    },
    "language_info": {
      "name": "python"
    }
  },
  "cells": [
    {
      "cell_type": "markdown",
      "metadata": {
        "id": "view-in-github",
        "colab_type": "text"
      },
      "source": [
        "<a href=\"https://colab.research.google.com/github/vikadenisova/mirea_ml/blob/main/lab4_ipynb%22.ipynb\" target=\"_parent\"><img src=\"https://colab.research.google.com/assets/colab-badge.svg\" alt=\"Open In Colab\"/></a>"
      ]
    },
    {
      "cell_type": "code",
      "metadata": {
        "id": "3zmVbrgYKCzt"
      },
      "source": [
        "import numpy as np\n",
        "from matplotlib import pyplot as plt\n",
        "from scipy.optimize import minimize\n",
        "\n",
        "\n",
        "# В данной лабораторной работе вам предлагается несколько моделей линейной регрессии и пронаблюдать эффект недообучения,\n",
        "# переобучения, а так же пронаблюдать соответствующие этим случаям кривые обучения.\n",
        "\n",
        "# Для выполнения данной лабораторной работы, необходимо заполнить код в следующих фукнциях:\n",
        "# scale_features - стандартизирует признаки,\n",
        "# compute_cost - вычисляет функцию стоимости,\n",
        "# compute_cost_grad - вычисляет градиент фукнции стоимости,\n",
        "# compute_learning_curves - вычисляет значения кривых обучения.\n",
        "\n",
        "# Кроме заполнения этих функций настоятельно рекомендуется ознакомится с содержимым остальных функций.\n",
        "# Комментарии к графикам:\n",
        "# 1. Исходные данные\n",
        "# 2. Обученная модель линейной регрессии.\n",
        "#    Здесь можно наблюдать эффект недообучения модели из-за недостаточной сложности.\n",
        "# 3. Кривые обучения для недообученной модели, изображенной на графике 2.\n",
        "#    Можно заметить, что ошибка на всем обучающем наборе и на всем валидационном наборе велика - признак недообучения.\n",
        "# 4. Обученная модель с полиномиальными признаками. На графике можно наблюдать, как функция проходит почти через\n",
        "#    все точки обучающего набора (отмечены красными крестами).\n",
        "# 5. Кривые обучения, соответствующие модели с полиномиальными признаками. Можно наблюдать большой разрыв между ошибкой\n",
        "#    на всем обучающем наборе и на всем валидационном - признак переобучения."
      ],
      "execution_count": 69,
      "outputs": []
    },
    {
      "cell_type": "code",
      "metadata": {
        "id": "dky5tQZqKIe7"
      },
      "source": [
        "def compute_hypothesis(X, theta):\n",
        "\n",
        "    # Функция для вычисления гипотезы линейной регрессии.\n",
        "    # Принимает на вход X - матрицу данных, theta - вектор параметров.\n",
        "    # Возвращает вектор значений функции гипотезы на всех примерах из матрицы X.\n",
        "\n",
        "    return X @ theta"
      ],
      "execution_count": 70,
      "outputs": []
    },
    {
      "cell_type": "code",
      "metadata": {
        "id": "7RBG7WhpKIhk"
      },
      "source": [
        "def train_linear_regression(X_train, y_train, init_theta, lamb):\n",
        "\n",
        "    # Функция для обучения алгоритма линейной регрессии.\n",
        "    # Принимает на вход X_train - матрицу данных, y_train - вектор значений целевой переменной,\n",
        "    # init_theta - вектор начальногог приблежения параметров для старта градиентного спуска,\n",
        "    # lamb - параметр регуляризации.\n",
        "    # Возвращает кортеж из двух элементов: флаг успеха минимизации (True или False) и оптимальный вектор параметров.\n",
        "\n",
        "    opt_theta_obj = minimize(lambda th: compute_cost(X_train, y_train, th, lamb), init_theta,\n",
        "                             method='BFGS',\n",
        "                             jac=lambda th: compute_cost_grad(X_train, y_train, th, lamb),\n",
        "                             options={'gtol': 1e-5, 'maxiter': 200, 'disp': False})\n",
        "    return opt_theta_obj.success, opt_theta_obj.x"
      ],
      "execution_count": 71,
      "outputs": []
    },
    {
      "cell_type": "code",
      "metadata": {
        "id": "c8ddxn4wKIkE"
      },
      "source": [
        "def show_learning_curves(curves):\n",
        "\n",
        "    # Функция для отрисовки кривых обучения.\n",
        "    # Принимает на вход список котрежей. Индекс кортежа - координата по оси абсцисс, элементы кортежа - значения\n",
        "    # кривой обучения на обучающем наборе и валидационном наборе соответственно.\n",
        "\n",
        "    tr_curve = list(map(lambda x: x[0], curves))\n",
        "    val_curve = list(map(lambda x: x[1], curves))\n",
        "\n",
        "    plt.plot(range(1, len(tr_curve) + 1), tr_curve)\n",
        "    plt.plot(range(1, len(val_curve) + 1), val_curve)\n",
        "\n",
        "    plt.xlim(2, len(curves) + 1)\n",
        "    plt.ylim(0, 150)\n",
        "\n",
        "    plt.title('Кривые обучения')\n",
        "\n",
        "    plt.ylabel('Ошибка')\n",
        "    plt.xlabel('Количество примеров в обучающем наборе')\n",
        "\n",
        "    plt.legend(['Обучающий набор', 'Валидационный набор'])\n",
        "\n",
        "    plt.show()"
      ],
      "execution_count": 72,
      "outputs": []
    },
    {
      "cell_type": "code",
      "metadata": {
        "id": "LZAJ4iZ7KImM"
      },
      "source": [
        "def map_features(X, p):\n",
        "\n",
        "    # Функция для добавления степеней в набор признаков примера.\n",
        "    # Принимает на вход X - матрицу данных, p - степень рещультирующего полинома.\n",
        "    # Возвращает новую матрицу данных, в которую добавлены степени первого (X[:, 1]) признака матрицы данных\n",
        "    # до p-ой включительно.\n",
        "\n",
        "    for i in range(2, p + 1):\n",
        "        X = np.append(X, X[:, 1].reshape(X.shape[0], 1) ** i, axis=1)\n",
        "    return X"
      ],
      "execution_count": 73,
      "outputs": []
    },
    {
      "cell_type": "code",
      "metadata": {
        "id": "U4CDWAimKIoe"
      },
      "source": [
        "def load_data(data_file_path):\n",
        "\n",
        "    # Функция для загрузки данных.\n",
        "    # Принимает на вход путь к файлу.\n",
        "    # На выход возвращает кортеж из двух элементов:\n",
        "    # матрицу данных с фиктивным признаком и вектор значений целевой переменной.\n",
        "\n",
        "    with open(data_file_path) as input_file:\n",
        "        X = list()\n",
        "        y = list()\n",
        "        for line in input_file:\n",
        "            *row, label = map(float, line.split(','))\n",
        "            X.append([1] + row)\n",
        "            y.append(label)\n",
        "        return np.array(X, float), np.array(y, float)"
      ],
      "execution_count": 74,
      "outputs": []
    },
    {
      "cell_type": "code",
      "metadata": {
        "id": "_Koci_2CKIq2"
      },
      "source": [
        "def scale_features(X):\n",
        "\n",
        "    # Функция для стандартизации признаков.\n",
        "    # Принимает на вход матрицу данных X.\n",
        "    # На выход возвращает кортеж из двух элементов: новую матрицу данных, со стандартизированными признаками и\n",
        "    # кортеж из двух элементов: вектор средних значений признаков и вектор средних квадратических отклонений.\n",
        "\n",
        "    result = np.zeros((X.shape[0], X.shape[1] - 1))  # матрица результата, её нужно заполнить.\n",
        "    mean = np.zeros(X.shape[1] - 1)\n",
        "    \n",
        "    # ВАШ КОД ЗДЕСЬ\n",
        "    mean = np.mean(X[:, 1:], axis=0)   # вектор средних значений признаков, его нужно заполнить.\n",
        "    std = np.std(X[:, 1:], axis=0)\n",
        "\n",
        "    result = (X[:, 1:] - mean) / std\n",
        "\n",
        "\n",
        "    return np.insert(result, 0, 1, axis=1), (mean, std)"
      ],
      "execution_count": 75,
      "outputs": []
    },
    {
      "cell_type": "code",
      "metadata": {
        "id": "uNsTY5GgKUrJ"
      },
      "source": [
        "def compute_cost(X, y, theta, lamb):\n",
        "\n",
        "    # Функция для расчета стоимости (ошибки) модели на наборе данных.\n",
        "    # Принимает на вход X - матрицу данных, y - вектор значений целевой переменной, theta - вектор параметров,\n",
        "    # lamb - параметр регуляризации.\n",
        "    # Возвращает значение функции стоимости на данном наборе данных.\n",
        "\n",
        "    m, n = X.shape  # количество примеров в выборке и признаков в примере соответственно.\n",
        "    # ВАШ КОД ЗДЕСЬ\n",
        "    cost = 1 / (2 * m) * np.sum((compute_hypothesis(X, theta) - y) ** 2) + (lamb / m) * np.sum(theta**2)  # значение функции стоимости, его нужно рассчитать.\n",
        "\n",
        "    return cost"
      ],
      "execution_count": 76,
      "outputs": []
    },
    {
      "cell_type": "code",
      "metadata": {
        "id": "SNFWV55nKU-x"
      },
      "source": [
        "def compute_cost_grad(X, y, theta, lamb):\n",
        "\n",
        "    # Функция для расчета градиента функции стоимости в заданной точке.\n",
        "    # Принимает на вход X - матрицу данных, y - вектор значений целевой переменной,\n",
        "    # theta - точка, в которой расчитывается градиент, lamb - параметр регуляризации.\n",
        "    # Возвращает градиент функции стоимости в заданной точке.\n",
        "\n",
        "    m, n = X.shape  # количество примеров в выборке и признаков в примере соответственно.\n",
        "    # ВАШ КОД ЗДЕСЬ\n",
        "    grad = (1 / m) * ((compute_hypothesis(X, theta) - y).T @ X) + 2 * lamb / m * theta  # вектор градиента функции стоимости, его надо рассчитать.\n",
        "\n",
        "\n",
        "    return grad"
      ],
      "execution_count": 77,
      "outputs": []
    },
    {
      "cell_type": "code",
      "metadata": {
        "id": "2_4C_T8_KVBQ"
      },
      "source": [
        "def compute_learning_curves(X_train, y_train, X_val, y_val, lamb):\n",
        "\n",
        "    # Функция для расчета кривых обучения.\n",
        "    # Принимает на вход X_train - матрицу данных обучющего набора,\n",
        "    # y_train - вектор целевой переменной обучающего набора, X_val - матрицу данных валидационного набора,\n",
        "    # y_val - вектор целевой переменной валидационного набора, lamb - параметр решуляризации.\n",
        "\n",
        "    m, n = X_train.shape  # количество примеров в выборке и признаков в примере соответственно.\n",
        "    result = list()  # список значений кривых обучения.\n",
        "    init_theta = np.ones(X_val.shape[1])\n",
        "\n",
        "    for i in range(1, m):\n",
        "\n",
        "\n",
        "        train_error = 0  # значение функции стоимости на i примерах обучающего набора, его необходимо расчитать.\n",
        "        val_error = 0  # значение функции стоимости на всем валидационном наборе, его необходимо расчитать.\n",
        "        # ВАШ КОД ЗДЕСЬ\n",
        "        \n",
        "        opt_theta = train_linear_regression(X_train[:i, :], y_train[:i], init_theta, init_lamb)[1]\n",
        "        print(f'шаг {i}: веса: {opt_theta}')\n",
        "        train_error = compute_cost(X_train, y_train, opt_theta, lamb)\n",
        "        val_error = compute_cost(X_val, y_val, opt_theta, lamb)\n",
        "        \n",
        "    \n",
        "\n",
        "        result.append((train_error, val_error))\n",
        "\n",
        "\n",
        "    return result"
      ],
      "execution_count": 78,
      "outputs": []
    },
    {
      "cell_type": "code",
      "metadata": {
        "id": "iTWrb6M9M8wo"
      },
      "source": [
        "# Загрузка данных\n",
        "X_train, y_train = load_data('lab4data1.txt')\n",
        "X_val, y_val = load_data('lab4data2.txt')\n",
        "X_test, y_test = load_data('lab4data3.txt')"
      ],
      "execution_count": 79,
      "outputs": []
    },
    {
      "cell_type": "code",
      "metadata": {
        "colab": {
          "base_uri": "https://localhost:8080/",
          "height": 281
        },
        "id": "1TBHZyciNDdN",
        "outputId": "9c80059d-72bc-4b3f-ab2e-1250aa1248e1"
      },
      "source": [
        "plt.title('Обучающий набор')\n",
        "plt.scatter(X_train[:, 1], y_train, c='r', marker='x')\n",
        "plt.show()"
      ],
      "execution_count": 80,
      "outputs": [
        {
          "output_type": "display_data",
          "data": {
            "image/png": "[encoded data removed]",
            "text/plain": [
              "<Figure size 432x288 with 1 Axes>"
            ]
          },
          "metadata": {
            "needs_background": "light"
          }
        }
      ]
    },
    {
      "cell_type": "code",
      "metadata": {
        "id": "cSW6nxfRNDaV"
      },
      "source": [
        "init_theta = np.array([1, 1])\n",
        "init_lamb = 1.0"
      ],
      "execution_count": 81,
      "outputs": []
    },
    {
      "cell_type": "code",
      "metadata": {
        "colab": {
          "base_uri": "https://localhost:8080/"
        },
        "id": "ORPH6XoKNGkY",
        "outputId": "9a251caa-939f-4e96-ca11-4f958b178738"
      },
      "source": [
        "print('Значение функции стоимости при theta = [1, 1], lamb = 1.0 (должно быть ~303.993): ',\n",
        "      compute_cost(X_train, y_train, init_theta, init_lamb))\n",
        "print('Значение градиента функции стоимости при theta = [1, 1], lamb = 1.0 (должно быть ~[-15.30, 598.25]): ',\n",
        "      compute_cost_grad(X_train, y_train, init_theta, init_lamb))"
      ],
      "execution_count": 82,
      "outputs": [
        {
          "output_type": "stream",
          "name": "stdout",
          "text": [
            "Значение функции стоимости при theta = [1, 1], lamb = 1.0 (должно быть ~303.993):  304.1181922202643\n",
            "Значение градиента функции стоимости при theta = [1, 1], lamb = 1.0 (должно быть ~[-15.30, 598.25]):  [-15.13634901 598.33407751]\n"
          ]
        }
      ]
    },
    {
      "cell_type": "code",
      "metadata": {
        "colab": {
          "base_uri": "https://localhost:8080/"
        },
        "id": "BR7LMb78NDXu",
        "outputId": "c8eb42d0-2104-4255-be71-623a4ef2d23b"
      },
      "source": [
        "print('Обучение модели линейной регрессии..')\n",
        "success, opt_theta = train_linear_regression(X_train, y_train, init_theta, init_lamb)\n",
        "print('Минимизация функции стоимости ' + ('прошла успешно.' if success else 'не удалась.'))"
      ],
      "execution_count": 83,
      "outputs": [
        {
          "output_type": "stream",
          "name": "stdout",
          "text": [
            "Обучение модели линейной регрессии..\n",
            "Минимизация функции стоимости прошла успешно.\n"
          ]
        }
      ]
    },
    {
      "cell_type": "code",
      "metadata": {
        "colab": {
          "base_uri": "https://localhost:8080/",
          "height": 281
        },
        "id": "D_vc2DrxNJ0v",
        "outputId": "93af7d3a-25f2-46a9-9626-eeb55c2ebcd1"
      },
      "source": [
        "plt.title('Обученая модель при lamb = 1.0')\n",
        "plt.scatter(X_train[:, 1], y_train, c='r', marker='x')\n",
        "plt.plot(X_train[:, 1], compute_hypothesis(X_train, opt_theta))\n",
        "plt.show()"
      ],
      "execution_count": 84,
      "outputs": [
        {
          "output_type": "display_data",
          "data": {
            "image/png": "[encoded data removed]",
            "text/plain": [
              "<Figure size 432x288 with 1 Axes>"
            ]
          },
          "metadata": {
            "needs_background": "light"
          }
        }
      ]
    },
    {
      "cell_type": "code",
      "metadata": {
        "colab": {
          "base_uri": "https://localhost:8080/",
          "height": 481
        },
        "id": "7zG3cI_JNQhV",
        "outputId": "14b6eb69-2f18-4ec4-a238-1cfb4fa9eef1"
      },
      "source": [
        "lin_learning_curves = compute_learning_curves(X_train, y_train, X_val, y_val, 0.0)\n",
        "show_learning_curves(lin_learning_curves)"
      ],
      "execution_count": 85,
      "outputs": [
        {
          "output_type": "stream",
          "name": "stdout",
          "text": [
            "шаг 1: веса: [ 0.00830535 -0.13236032]\n",
            "шаг 2: веса: [ 0.24340172 -0.05176254]\n",
            "шаг 3: веса: [8.45481426 0.51767385]\n",
            "шаг 4: веса: [9.57073769 0.59737711]\n",
            "шаг 5: веса: [12.25131537  0.43384622]\n",
            "шаг 6: веса: [11.48952078  0.4393611 ]\n",
            "шаг 7: веса: [11.08677857  0.43021804]\n",
            "шаг 8: веса: [11.60813476  0.40417357]\n",
            "шаг 9: веса: [10.8150642   0.39783213]\n",
            "шаг 10: веса: [11.36651763  0.35425928]\n",
            "шаг 11: веса: [10.82866533  0.34508584]\n"
          ]
        },
        {
          "output_type": "display_data",
          "data": {
            "image/png": "[encoded data removed]",
            "text/plain": [
              "<Figure size 432x288 with 1 Axes>"
            ]
          },
          "metadata": {
            "needs_background": "light"
          }
        }
      ]
    },
    {
      "cell_type": "code",
      "metadata": {
        "id": "5wGwfT6MNQen"
      },
      "source": [
        "poly_pow = 8  # степень полинома для полиномиальной регрессии, можно варьировать\n",
        "poly_lamb = 0.0  # параметр регуляризации для полиномиальной регрессии, можно варьировать"
      ],
      "execution_count": 86,
      "outputs": []
    },
    {
      "cell_type": "code",
      "metadata": {
        "id": "-C601-ghNQbu"
      },
      "source": [
        "X_train_poly, (mean, std) = scale_features(map_features(X_train, poly_pow))\n",
        "X_val_poly = scale_features(map_features(X_val, poly_pow))[0]"
      ],
      "execution_count": 87,
      "outputs": []
    },
    {
      "cell_type": "code",
      "metadata": {
        "id": "ocFGzP8mNWG8"
      },
      "source": [
        "X_plot_poly = np.array([[i ** p for p in range(poly_pow + 1)] for i in range(-50, 40)], dtype=float)\n",
        "X_plot_poly[:, 1:] = (X_plot_poly[:, 1:] - mean) / std"
      ],
      "execution_count": 88,
      "outputs": []
    },
    {
      "cell_type": "code",
      "metadata": {
        "id": "eFT787leNWEG",
        "colab": {
          "base_uri": "https://localhost:8080/"
        },
        "outputId": "507df18b-4509-491f-ddc5-44bc6070039c"
      },
      "source": [
        "print()\n",
        "print('Обучение модели полномиальной регрессии..')\n",
        "success, opt_theta = train_linear_regression(X_train_poly, y_train, np.zeros(X_train_poly.shape[1]), poly_lamb)\n",
        "print('Минимизация функции стоимости ' + ('прошла успешно.' if success else 'не удалась.'))"
      ],
      "execution_count": 89,
      "outputs": [
        {
          "output_type": "stream",
          "name": "stdout",
          "text": [
            "\n",
            "Обучение модели полномиальной регрессии..\n",
            "Минимизация функции стоимости прошла успешно.\n"
          ]
        }
      ]
    },
    {
      "cell_type": "code",
      "metadata": {
        "id": "wivCfz9kNZlK",
        "colab": {
          "base_uri": "https://localhost:8080/",
          "height": 281
        },
        "outputId": "3eae9523-73fd-457f-efca-95aec9cab8c3"
      },
      "source": [
        "plt.title('Обученая модель при lamb = ' + str(poly_lamb))\n",
        "plt.scatter(X_train_poly[:, 1], y_train, c='r', marker='x')\n",
        "plt.scatter(X_val_poly[:, 1], y_val, c='b', marker='x')\n",
        "plt.plot(X_plot_poly[:, 1], compute_hypothesis(X_plot_poly, opt_theta))\n",
        "plt.show()"
      ],
      "execution_count": 90,
      "outputs": [
        {
          "output_type": "display_data",
          "data": {
            "image/png": "[encoded data removed]",
            "text/plain": [
              "<Figure size 432x288 with 1 Axes>"
            ]
          },
          "metadata": {
            "needs_background": "light"
          }
        }
      ]
    },
    {
      "cell_type": "code",
      "metadata": {
        "id": "dpeps2MINZiw",
        "colab": {
          "base_uri": "https://localhost:8080/",
          "height": 667
        },
        "outputId": "040e3a7b-f0eb-4f8e-ff32-0a605f517d3d"
      },
      "source": [
        "poly_learning_curves = compute_learning_curves(X_train_poly, y_train, X_val_poly, y_val, poly_lamb)\n",
        "show_learning_curves(poly_learning_curves)"
      ],
      "execution_count": 91,
      "outputs": [
        {
          "output_type": "stream",
          "name": "stdout",
          "text": [
            "шаг 1: веса: [ 0.40728788 -0.15405407 -0.3212126   0.07751858 -0.30041199  0.13043475\n",
            " -0.25135836  0.14655644 -0.21630702]\n",
            "шаг 2: веса: [ 0.45534428 -0.2100915  -0.29418897  0.04974042 -0.30331066  0.12752222\n",
            " -0.26770619  0.15620063 -0.23671598]\n",
            "шаг 3: веса: [ 4.16233292  5.2113784   2.73334922  4.84154971  1.08827097  3.92238344\n",
            " -0.09400243  3.11613428 -0.78698374]\n",
            "шаг 4: веса: [ 4.63155606  5.71306481  3.19986641  5.51474416  1.46001982  4.57562251\n",
            "  0.14747062  3.67969409 -0.66249595]\n",
            "шаг 5: веса: [7.3125567  5.05821045 4.44589703 4.78390573 3.0839766  3.36189103\n",
            " 2.02910634 2.07948793 1.37148341]\n",
            "шаг 6: веса: [7.51527817 5.07721382 4.23585388 4.79382873 3.02147798 3.33061807\n",
            " 2.03130031 2.02898678 1.40482912]\n",
            "шаг 7: веса: [8.47687391 6.33274591 3.4717968  4.36556249 2.49377328 2.76340623\n",
            " 1.83089511 1.51966949 1.42698011]\n",
            "шаг 8: веса: [8.72003174 6.03102823 3.83585402 4.1435941  2.57606458 2.77240534\n",
            " 1.67969958 1.71819325 1.12674529]\n",
            "шаг 9: веса: [8.61643913 5.98461872 3.9788867  4.15573041 2.59759218 2.79588293\n",
            " 1.67120759 1.74758207 1.10534998]\n",
            "шаг 10: веса: [8.82621964 5.91685366 4.16433853 3.95881703 2.78146409 2.6735142\n",
            " 1.69167033 1.81517591 0.90098043]\n",
            "шаг 11: веса: [8.97008922 6.03819635 4.0085575  3.90176156 2.74123719 2.61715492\n",
            " 1.6881229  1.76765858 0.91100244]\n"
          ]
        },
        {
          "output_type": "display_data",
          "data": {
            "image/png": "[encoded data removed]",
            "text/plain": [
              "<Figure size 432x288 with 1 Axes>"
            ]
          },
          "metadata": {
            "needs_background": "light"
          }
        }
      ]
    },
    {
      "cell_type": "code",
      "metadata": {
        "id": "aevgzU9ANZf0",
        "colab": {
          "base_uri": "https://localhost:8080/"
        },
        "outputId": "ab286f05-05e9-4079-a027-221f4296ccbf"
      },
      "source": [
        "X_test = map_features(X_test, poly_pow)\n",
        "X_test[:, 1:] = (X_test[:, 1:] - mean) / std\n",
        "print('Оценка качества модели на тестовом наборе:', compute_cost(X_test, y_test, opt_theta, 0.0))"
      ],
      "execution_count": 92,
      "outputs": [
        {
          "output_type": "stream",
          "name": "stdout",
          "text": [
            "Оценка качества модели на тестовом наборе: 17.139194763516418\n"
          ]
        }
      ]
    }
  ]
}