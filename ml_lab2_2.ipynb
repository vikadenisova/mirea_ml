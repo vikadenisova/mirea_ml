{
  "cells": [
    {
      "cell_type": "markdown",
      "metadata": {
        "id": "view-in-github",
        "colab_type": "text"
      },
      "source": [
        "<a href=\"https://colab.research.google.com/github/vikadenisova/mirea_ml/blob/main/ml_lab2_2.ipynb\" target=\"_parent\"><img src=\"https://colab.research.google.com/assets/colab-badge.svg\" alt=\"Open In Colab\"/></a>"
      ]
    },
    {
      "cell_type": "code",
      "execution_count": null,
      "metadata": {
        "colab": {
          "base_uri": "https://localhost:8080/",
          "height": 590
        },
        "id": "3O7rO9wgRHOh",
        "outputId": "a3a39760-b5d2-4a52-d053-cf37a5e49eec"
      },
      "outputs": [
        {
          "output_type": "stream",
          "name": "stdout",
          "text": [
            "Files already downloaded and verified\n",
            "Files already downloaded and verified\n",
            "Эпоха 1 завершилась с функцией стоимости на последнем пакете = 1.5549540519714355\n",
            "Эпоха 2 завершилась с функцией стоимости на последнем пакете = 1.2798521518707275\n",
            "Эпоха 3 завершилась с функцией стоимости на последнем пакете = 1.225773811340332\n",
            "Эпоха 4 завершилась с функцией стоимости на последнем пакете = 1.0272800922393799\n",
            "Эпоха 5 завершилась с функцией стоимости на последнем пакете = 1.132739543914795\n",
            "Эпоха 6 завершилась с функцией стоимости на последнем пакете = 1.259055256843567\n",
            "Эпоха 7 завершилась с функцией стоимости на последнем пакете = 0.7965665459632874\n",
            "Эпоха 8 завершилась с функцией стоимости на последнем пакете = 0.828451931476593\n",
            "Эпоха 9 завершилась с функцией стоимости на последнем пакете = 0.9407839775085449\n",
            "Эпоха 10 завершилась с функцией стоимости на последнем пакете = 0.8624622225761414\n",
            "Эпоха 11 завершилась с функцией стоимости на последнем пакете = 0.7499526739120483\n",
            "Эпоха 12 завершилась с функцией стоимости на последнем пакете = 0.9583485722541809\n",
            "Эпоха 13 завершилась с функцией стоимости на последнем пакете = 1.077782392501831\n",
            "Эпоха 14 завершилась с функцией стоимости на последнем пакете = 0.8561944961547852\n",
            "Эпоха 15 завершилась с функцией стоимости на последнем пакете = 0.9176653027534485\n"
          ]
        },
        {
          "output_type": "display_data",
          "data": {
            "text/plain": [
              "<Figure size 432x288 with 1 Axes>"
            ],
            "image/png": "[encoded data removed]"
          },
          "metadata": {
            "needs_background": "light"
          }
        }
      ],
      "source": [
        "# Импортируем основные модули pytorch\n",
        "import torch\n",
        "import torch.nn as nn\n",
        "from torch.utils.data import DataLoader\n",
        "import torch.nn.functional as F\n",
        "\n",
        "# Импортируем модули, связанные с компьютерным зрением\n",
        "from torchvision import datasets\n",
        "from torchvision.transforms import ToTensor\n",
        "\n",
        "# Импортируем вспомогательные модули\n",
        "from sklearn.metrics import accuracy_score\n",
        "import matplotlib.pyplot as plt\n",
        "\n",
        "\n",
        "# В этой части предлагается реализовать сверточную сеть.\n",
        "# Поэкспериментируйте с использованием слоев пакетной нормализации и дропаута.\n",
        "# Сравните точность на тестовой выборке с аналогичными результатами одногруппников.\n",
        "\n",
        "class ConvNet(nn.Module):\n",
        "    def __init__(self):\n",
        "        super().__init__()\n",
        "        self.conv1 = nn.Conv2d(3, 32, kernel_size=3, padding=1)\n",
        "        self.conv2 = nn.Conv2d(32, 16, kernel_size=3, padding=1)\n",
        "        self.fc1 = nn.Linear(16 * 8 * 8, 32)\n",
        "        self.fc2 = nn.Linear(32,10)\n",
        "        \n",
        "    def forward(self, x):\n",
        "        out = F.max_pool2d(torch.tanh(self.conv1(x)), 2)\n",
        "        out = F.max_pool2d(torch.tanh(self.conv2(out)), 2)\n",
        "        out = out.view(-1, 16 * 8 * 8)\n",
        "        out = torch.tanh(self.fc1(out))\n",
        "        out = self.fc2(out)\n",
        "        return out\n",
        "\n",
        "\n",
        "\n",
        "# Задаем количество эпох (проходов по всей обучающей выборке) и размер пакета, можно варьировать\n",
        "EPOCHS = 15\n",
        "BATCH_SIZE = 256\n",
        "\n",
        "# Загружаем данные из набора CIFAR10\n",
        "train_data = datasets.CIFAR10(root='./data/train', train=True, download=True, transform=ToTensor())\n",
        "test_data = datasets.CIFAR10(root='./data/test', train=False, download=True, transform=ToTensor())\n",
        "\n",
        "# DataLoader позволяет разбить выборку на пакеты заданного размера.\n",
        "# Параметр shuffle отвечает за перемешивание данных в пакете\n",
        "train_loader = DataLoader(train_data, batch_size=BATCH_SIZE, shuffle=True)\n",
        "\n",
        "# Если графический ускоритель поддерживает обучение на нем, будем использовать его,\n",
        "# иначе обучать на процессоре.\n",
        "device = 'cuda' if torch.cuda.is_available() else 'cpu'\n",
        "\n",
        "# Готовимся к обучению\n",
        "model = ConvNet().to(device)  # создаем модель\n",
        "optimizer = torch.optim.Adam(model.parameters(), lr=0.001)  # оптимизатор, нужно выбрать и настроить\n",
        "loss_function = nn.CrossEntropyLoss()  # функция потерь, нужно выбрать\n",
        "loss_history = list()  # список для хранения истории изменения функции стоимости\n",
        "\n",
        "# Начинаем обучение\n",
        "for epoch in range(EPOCHS):\n",
        "    for i, (batch, labels) in enumerate(train_loader):  # разбиваем выборку на пакеты\n",
        "        # Нужно реализовать один шаг градиентного спуска\n",
        "        #batch = batch.reshape(batch.shape[0], -1)\n",
        "        optimizer.zero_grad()\n",
        "        loss = loss_function(model(batch), labels) # значение функции стоимости на пакете, нужно рассчитать\n",
        "        loss.backward()\n",
        "        optimizer.step() \n",
        "        loss_history.append(loss.log().item())  # добавляется логарифм стоимости для большей наглядности\n",
        "    print(f'Эпоха {epoch + 1} завершилась с функцией стоимости на последнем пакете = {loss.item()}')\n",
        "\n",
        "\n",
        "# Выводим график функции стоимости\n",
        "plt.title('Зависимость функции стоимости от номера шага градиентного спуска')\n",
        "plt.xlabel('Номер шага')\n",
        "plt.ylabel('Функция стоимости')\n",
        "plt.plot(loss_history)\n",
        "plt.show()\n",
        "\n",
        "torch.save(model, 'CNN.pth')"
      ]
    },
    {
      "cell_type": "code",
      "execution_count": null,
      "metadata": {
        "id": "iwlCyV9DdJAz"
      },
      "outputs": [],
      "source": [
        "model = torch.load('CNN.pth')"
      ]
    },
    {
      "cell_type": "code",
      "execution_count": null,
      "metadata": {
        "colab": {
          "base_uri": "https://localhost:8080/"
        },
        "id": "VkTvsXnZdLrY",
        "outputId": "7fbc9700-7b17-4559-ced2-8f27090919cb"
      },
      "outputs": [
        {
          "output_type": "stream",
          "name": "stdout",
          "text": [
            "Точность (accuracy) на тестовой выборке: 0.6632\n"
          ]
        }
      ],
      "source": [
        "with torch.no_grad():\n",
        "    # Оцениваем качество модели\n",
        "    train_data_loader = DataLoader(train_data, batch_size=len(train_data))\n",
        "    train_features, train_targets = next(iter(train_data_loader))\n",
        "\n",
        "    test_data_loader = DataLoader(test_data, batch_size=len(test_data))\n",
        "    test_features, test_targets = next(iter(test_data_loader))\n",
        "\n",
        "    test_features = test_features.to(device)\n",
        "    test_model_predictions = torch.argmax(model(test_features), dim=1)\n",
        "    print('Точность (accuracy) на тестовой выборке:', accuracy_score(test_data.targets, test_model_predictions.cpu()))"
      ]
    },
    {
      "cell_type": "code",
      "execution_count": null,
      "metadata": {
        "id": "r4-V20-2e5pT"
      },
      "outputs": [],
      "source": [
        ""
      ]
    }
  ],
  "metadata": {
    "colab": {
      "collapsed_sections": [],
      "name": "ml_lab2_2.ipynb",
      "provenance": [],
      "authorship_tag": "ABX9TyMpsKb1EgfYhhAdQj4v9AVG",
      "include_colab_link": true
    },
    "kernelspec": {
      "display_name": "Python 3",
      "name": "python3"
    },
    "language_info": {
      "name": "python"
    }
  },
  "nbformat": 4,
  "nbformat_minor": 0
}