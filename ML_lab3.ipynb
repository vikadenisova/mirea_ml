{
  "nbformat": 4,
  "nbformat_minor": 0,
  "metadata": {
    "colab": {
      "name": "Untitled8.ipynb",
      "provenance": [],
      "authorship_tag": "ABX9TyMyutr9y0/qzKjyZX4Va2mD",
      "include_colab_link": true
    },
    "kernelspec": {
      "name": "python3",
      "display_name": "Python 3"
    },
    "language_info": {
      "name": "python"
    }
  },
  "cells": [
    {
      "cell_type": "markdown",
      "metadata": {
        "id": "view-in-github",
        "colab_type": "text"
      },
      "source": [
        "<a href=\"https://colab.research.google.com/github/vikadenisova/mirea_ml/blob/main/ML_lab3.ipynb\" target=\"_parent\"><img src=\"https://colab.research.google.com/assets/colab-badge.svg\" alt=\"Open In Colab\"/></a>"
      ]
    },
    {
      "cell_type": "code",
      "metadata": {
        "id": "lKE0iFlnx3ok"
      },
      "source": [
        "import numpy as np\n",
        "import struct\n",
        "from functools import reduce\n",
        "from scipy.optimize import minimize\n",
        "from matplotlib import pyplot as plt"
      ],
      "execution_count": 2,
      "outputs": []
    },
    {
      "cell_type": "code",
      "metadata": {
        "id": "c4-15TP9yOFq"
      },
      "source": [
        "# Вам предлагается обучить трехслойную нейронную сеть прямого распространения с сигмоидальными функциями активации на\n",
        "# наборе данных MNIST - множестве изображений рукописных цифр и соответствующих метках 0-9.\n",
        "\n",
        "# Ваша задача заполнить код в следующих функциях:\n",
        "# logistic - вычисляет логистическую функцию от аргумента,\n",
        "# compute_hypothesis - вычисляет выходы сети для заданного набора данных,\n",
        "# compute_cost - вычисляет функцию стоимости,\n",
        "# compute_cost_grad - вычисляет градиент функции стоимости с помощью алгоритма обратного распространения ошибки.\n",
        "\n",
        "# По ходу работы смотрите в консоль. Там будут выводиться результаты написанных вами функций и ожидаемые результаты.\n",
        "# Так вы сможете проверить себя.\n",
        "\n",
        "# Ниже заданы \"константы\", с которыми можно \"поиграть\" - поварьировать их и посмотреть, что будет.\n",
        "HIDDEN_LAYER_SIZE = 25  # Количество нейронов в скрытом слое.\n",
        "\n",
        "# Всего у вас есть 60 000 изображений, поэтому сумма следующих двух констант не должна быть больше 60 000.\n",
        "SAMPLES_TO_TRAIN = 1000  # Количество примеров в обучающей выборке, на ней будет производить подбор параметров модели.\n",
        "SAMPLES_TO_TEST = 100  # Количество примеров в тестовой выборке, на ней будет оцениваться качество модели."
      ],
      "execution_count": 3,
      "outputs": []
    },
    {
      "cell_type": "code",
      "metadata": {
        "id": "QHyJGXunyOEA"
      },
      "source": [
        "def one_hot_encode(y):\n",
        "\n",
        "    # Функция кодирует вектор чисел с метками классов в матрицу, каждая строка которой является унитарным кодом\n",
        "    # соответствующей метки.\n",
        "\n",
        "    return np.array(np.arange(0, 10, 1) == y, dtype=np.int32)"
      ],
      "execution_count": 4,
      "outputs": []
    },
    {
      "cell_type": "code",
      "metadata": {
        "id": "pEwKvRe-yOAR"
      },
      "source": [
        "def get_random_matrix(l_in, l_out):\n",
        "\n",
        "    # Функция для генерации матрицы случайных параметров.\n",
        "\n",
        "    return np.random.uniform(-0.5, 0.5, (l_out, l_in + 1))"
      ],
      "execution_count": 5,
      "outputs": []
    },
    {
      "cell_type": "code",
      "metadata": {
        "id": "PPB8GrWAyN-E"
      },
      "source": [
        "def compute_cost_grad_approx(X, y, theta, lamb):\n",
        "\n",
        "    # Фукнция для численного расчета градиента фукници стоимости. Такой метод полезно использовать при проверке\n",
        "    # правильности аналитического расчета.\n",
        "\n",
        "    eps = 1e-5\n",
        "    grad = np.zeros(theta.size)\n",
        "    perturb = np.zeros(theta.size)\n",
        "    for i in range(theta.shape[0]):\n",
        "        if i % 1000 == 0:\n",
        "            print(f'{round(i / theta.shape[0] * 100, 2)}%')\n",
        "        perturb[i] = eps\n",
        "        grad[i] = (compute_cost(X, y, theta + perturb, lamb) - compute_cost(X, y, theta - perturb, lamb)) / (2 * eps)\n",
        "        perturb[i] = 0\n",
        "    return grad"
      ],
      "execution_count": 6,
      "outputs": []
    },
    {
      "cell_type": "code",
      "metadata": {
        "id": "hTgQOpj9yN5p"
      },
      "source": [
        "def logistic(z):\n",
        "\n",
        "    # Функция принимает аргумент z - скаляр, вектор или матрицу в виде объекта numpy.array()\n",
        "    # Должна возвращать скяляр, вектор или матрицу (в зависимости от размерности z)\n",
        "    # результатов вычисления логистической функции от элементов z\n",
        "\n",
        "    # ВАШ КОД ЗДЕСЬ\n",
        "    result = 1/(1 + np.exp(-z))\n",
        "    # =============\n",
        "\n",
        "    return result"
      ],
      "execution_count": 7,
      "outputs": []
    },
    {
      "cell_type": "code",
      "metadata": {
        "id": "Bn9NfQbvyN3F"
      },
      "source": [
        "def logistic_grad(z):\n",
        "\n",
        "    # Функция принимает аргумент z - скаляр, вектор или матрицу в виде объекта numpy.array()\n",
        "    # Должна возвращать скяляр, вектор или матрицу (в зависимости от размерности z)\n",
        "    # результатов вычисления производной логистической функции от элементов z\n",
        "\n",
        "\n",
        "    # ВАШ КОД ЗДЕСЬ\n",
        "    f_log = logistic(z)\n",
        "    result = f_log * (1 - f_log)\n",
        "    # =============\n",
        "\n",
        "    return result"
      ],
      "execution_count": 8,
      "outputs": []
    },
    {
      "cell_type": "code",
      "metadata": {
        "id": "J3ynsP9UyZC-"
      },
      "source": [
        "def make_with_ones(X):\n",
        "    ones = np.ones(X.shape[0])\n",
        "    X_with_ones = np.column_stack((ones, X))\n",
        "    return X_with_ones"
      ],
      "execution_count": 9,
      "outputs": []
    },
    {
      "cell_type": "code",
      "metadata": {
        "id": "GcyYw3U-yY_u"
      },
      "source": [
        "def compute_hypothesis(X, theta):\n",
        "\n",
        "    # Функция принимает матрицу данных X без фиктивного признака и вектор параметров theta.\n",
        "    # Вектор theta является \"разворотом\" мартиц Theta1 и Theta2 в плоский вектор.\n",
        "    # Функция должна возвращать матрицу выходов сети для каждого примера из обучающего набора,\n",
        "    # а также матрицу входов нейронов скрытого слоя и матрицу выходов скрытого слоя (это понадобится для реализации\n",
        "    # алгоритма обратного распространения ошибки).\n",
        "\n",
        "    # Восстановление матриц Theta1 и Theta2 из ветора theta:\n",
        "    Theta1 = theta[:HIDDEN_LAYER_SIZE * (X.shape[1] + 1)].reshape(HIDDEN_LAYER_SIZE, X.shape[1] + 1)\n",
        "    Theta2 = theta[HIDDEN_LAYER_SIZE * (X.shape[1] + 1):].reshape(10, HIDDEN_LAYER_SIZE + 1)\n",
        "\n",
        "    H = None  # Будущая матрица выходов, нужно заполнить\n",
        "    Z2 = None  # Будущая матрица входов скрытого слоя, нужно заполнить\n",
        "    A2 = None  # Будущая матрица выходов скрытого слоя, нужно заполнить\n",
        "\n",
        "    # ВАШ КОД ЗДЕСЬ\n",
        "\n",
        "    Z2 = make_with_ones(X) @ Theta1.T\n",
        "    A2 = logistic(Z2)\n",
        "    \n",
        "    Z3 = make_with_ones(A2) @ Theta2.T\n",
        "    H = logistic(Z3)\n",
        "\n",
        "    # =============\n",
        "\n",
        "    return H, Z2, A2"
      ],
      "execution_count": 10,
      "outputs": []
    },
    {
      "cell_type": "code",
      "metadata": {
        "id": "mbPTQQt-yY9K"
      },
      "source": [
        "def compute_cost(X, y, theta, lamb):\n",
        "\n",
        "    # Функция принимает матрицу данных X без фиктивного признака, вектор верных классов y,\n",
        "    # вектор параметров theta и параметр регуляризации lamb.\n",
        "    # Вектор theta является \"разворотом\" мартиц Theta1 и Theta2 в плоский вектор.\n",
        "    # Должна вернуть значение функции стоимости в точке theta.\n",
        "\n",
        "    m, n = X.shape  # m - количество примеров в выборке, n - количество признаков у каждого примера\n",
        "    cost = 0  # значение функции стоимости при заданных параметрах, его нужно посчитать\n",
        "\n",
        "    # Восстановление матриц Theta1 и Theta2 из ветора theta:\n",
        "    Theta1 = theta[:HIDDEN_LAYER_SIZE * (X.shape[1] + 1)].reshape(HIDDEN_LAYER_SIZE, X.shape[1] + 1)\n",
        "    Theta2 = theta[HIDDEN_LAYER_SIZE * (X.shape[1] + 1):].reshape(10, HIDDEN_LAYER_SIZE + 1)\n",
        "\n",
        "    # ВАШ КОД ЗДЕСЬ\n",
        "    H, Z2, A2 = compute_hypothesis(X, theta)\n",
        "    for i in range(m):\n",
        "        y_new = one_hot_encode(y[i])\n",
        "        for k in range(H.shape[1]):\n",
        "            cost = cost - y_new[k] * np.log(H[i][k]) - (1 - y_new[k]) * np.log(1 - (H[i][k]))\n",
        "    \n",
        "    sum_theta = np.sum(Theta1**2) + np.sum(Theta2**2)\n",
        "\n",
        "    cost = cost + lamb*sum_theta/2\n",
        "    cost = cost/m\n",
        "    # ==============\n",
        "\n",
        "    return cost"
      ],
      "execution_count": 11,
      "outputs": []
    },
    {
      "cell_type": "code",
      "metadata": {
        "id": "3aKm4tr4yY6y"
      },
      "source": [
        "def compute_cost_grad(X, y, theta, lamb):\n",
        "\n",
        "    # Функция принимает матрицу данных X без фиктивного признака, вектор верных классов y,\n",
        "    # вектор параметров theta и параметр регуляризации lamb.\n",
        "    # Вектор theta является \"разворотом\" мартиц Theta1 и Theta2 в плоский вектор.\n",
        "    # Функция должна реализовать алгоритм обратного распространения ошибки и вернуть матрицы градиентов весов связей.\n",
        "\n",
        "    m, n = X.shape  # m - количество примеров в выборке, n - количество признаков у каждого примера\n",
        "\n",
        "    # Восстановление матриц Theta1 и Theta2 из ветора theta:\n",
        "    Theta1 = theta[:HIDDEN_LAYER_SIZE * (X.shape[1] + 1)].reshape(HIDDEN_LAYER_SIZE, X.shape[1] + 1)\n",
        "    Theta2 = theta[HIDDEN_LAYER_SIZE * (X.shape[1] + 1):].reshape(10, HIDDEN_LAYER_SIZE + 1)\n",
        "\n",
        "    Theta1_grad = None  # Будущая матрица градиентов весов между входным и скрытым слоем, ее нужно заполнить\n",
        "    Theta2_grad = None  # Будущая матрица градиентов весов между скрытым и выходным слоем, ее нужно заполнить\n",
        "\n",
        "    # ВАШ КОД ЗДЕСЬ\n",
        "    H, Z2, A2 = compute_hypothesis(X, theta)\n",
        "    y_full = np.array([one_hot_encode(i) for i in y])\n",
        "    delta3 = H - y_full\n",
        "\n",
        "    delta2 = []\n",
        "    A2_ones = make_with_ones(A2)\n",
        "    X_ones = make_with_ones(X)\n",
        "\n",
        "    for i in range(delta3.shape[0]):\n",
        "        temp = (Theta2.T @ delta3[i]) * logistic_grad(make_with_ones(Z2)[i])\n",
        "        delta2.append(temp)\n",
        "    \n",
        "    delta2 = np.array(delta2)\n",
        "\n",
        "    delta1_big = []\n",
        "    delta2_new = []\n",
        "    for i in range(delta2.shape[0]):\n",
        "        delta2_new.append(delta2[i][1:])\n",
        "\n",
        "    delta1_big = X_ones.T @ delta2_new\n",
        "    delta2_big = A2_ones.T @ delta3\n",
        "    \n",
        "    delta1_big = delta1_big.T + lamb * Theta1\n",
        "    delta2_big = delta2_big.T + lamb * Theta2\n",
        "\n",
        "    for i in range(delta1_big.shape[0]):\n",
        "        delta1_big[i][0] = delta1_big[i][0] - lamb * Theta1[i][0]\n",
        "    \n",
        "    for i in range(delta2_big.shape[0]):\n",
        "        delta2_big[i][0] = delta2_big[i][0] - lamb * Theta2[i][0]\n",
        "\n",
        "    Theta1_grad = delta1_big/m\n",
        "    Theta2_grad = delta2_big/m\n",
        "\n",
        "    # ==============\n",
        "\n",
        "    return np.concatenate((Theta1_grad, Theta2_grad), axis=None)"
      ],
      "execution_count": 12,
      "outputs": []
    },
    {
      "cell_type": "code",
      "metadata": {
        "id": "1_Ty7LrdyYyd"
      },
      "source": [
        "def load_data_idx(file_path):\n",
        "    with open(file_path, 'rb') as input_file:\n",
        "        magic = input_file.read(4)\n",
        "        dims = int(magic[3])\n",
        "        sizes = [struct.unpack('>L', input_file.read(4))[0] for _ in range(dims)]\n",
        "        size = reduce(lambda x, y: x * y, sizes)\n",
        "        data = np.array(list(input_file.read(size)), dtype=float)\n",
        "        data = data.reshape(sizes)\n",
        "        return data"
      ],
      "execution_count": 13,
      "outputs": []
    },
    {
      "cell_type": "code",
      "metadata": {
        "id": "ABW4FTUVyjFh"
      },
      "source": [
        "# Загрузка данных\n",
        "images = load_data_idx('images.idx')\n",
        "features = images.reshape((images.shape[0], images.shape[1] * images.shape[2])) / 128 - 1.0\n",
        "\n",
        "labels = load_data_idx('labels.idx')"
      ],
      "execution_count": 15,
      "outputs": []
    },
    {
      "cell_type": "code",
      "metadata": {
        "id": "Di4aa6-ByjCe"
      },
      "source": [
        "X = features[:SAMPLES_TO_TRAIN]\n",
        "y = labels[:SAMPLES_TO_TRAIN]"
      ],
      "execution_count": 16,
      "outputs": []
    },
    {
      "cell_type": "code",
      "metadata": {
        "id": "Q0f8f_3Syi_k"
      },
      "source": [
        "X_test = features[SAMPLES_TO_TRAIN: SAMPLES_TO_TRAIN + SAMPLES_TO_TEST]\n",
        "y_test = labels[SAMPLES_TO_TRAIN: SAMPLES_TO_TRAIN + SAMPLES_TO_TEST]"
      ],
      "execution_count": 17,
      "outputs": []
    },
    {
      "cell_type": "code",
      "metadata": {
        "colab": {
          "base_uri": "https://localhost:8080/"
        },
        "id": "awYwHsa9yqMX",
        "outputId": "381a5fc3-9029-483e-991a-8d2752bf1ed9"
      },
      "source": [
        "print(f'logistic(0) = {logistic(np.array(0))} (должно быть 0.5)\\n'\n",
        "      f'logistic(-10) = {logistic(np.array(-10))} (должно быть ~0)\\n'\n",
        "      f'logistic(10) = {logistic(np.array(10))} (должно быть ~1)')\n",
        "print()\n",
        "print(f'logistic_grad(0) = {logistic_grad(np.array(0))} (должно быть ~0.25)\\n'\n",
        "      f'logistic_grad(-10) = {logistic_grad(np.array(-10))} (должно быть ~0)\\n'\n",
        "      f'logistic_grad(10) = {logistic_grad(np.array(10))} (должно быть ~0)')"
      ],
      "execution_count": 18,
      "outputs": [
        {
          "output_type": "stream",
          "name": "stdout",
          "text": [
            "logistic(0) = 0.5 (должно быть 0.5)\n",
            "logistic(-10) = 4.5397868702434395e-05 (должно быть ~0)\n",
            "logistic(10) = 0.9999546021312976 (должно быть ~1)\n",
            "\n",
            "logistic_grad(0) = 0.25 (должно быть ~0.25)\n",
            "logistic_grad(-10) = 4.5395807735951673e-05 (должно быть ~0)\n",
            "logistic_grad(10) = 4.5395807735907655e-05 (должно быть ~0)\n"
          ]
        }
      ]
    },
    {
      "cell_type": "code",
      "metadata": {
        "colab": {
          "base_uri": "https://localhost:8080/",
          "height": 265
        },
        "id": "xE23qPW2yqJp",
        "outputId": "8fcde4f6-8f81-42e0-abf3-86a0c0459ee4"
      },
      "source": [
        "im_size = int(features.shape[1] ** 0.5)\n",
        "hm = np.zeros((im_size * 10, im_size * 10))\n",
        "for i in range(100):\n",
        "    im_x = i % 10 * im_size\n",
        "    im_y = i // 10 * im_size\n",
        "    for j in range(features.shape[1]):\n",
        "        px_x = im_x + j % im_size\n",
        "        px_y = im_y + j // im_size\n",
        "        hm[10 * im_size - 1 - px_x, px_y] = images[i, j % im_size, j // im_size]\n",
        "plt.pcolor(hm, cmap='Greys')\n",
        "plt.show()"
      ],
      "execution_count": 19,
      "outputs": [
        {
          "output_type": "display_data",
          "data": {
            "image/png": "[encoded data removed]",
            "text/plain": [
              "<Figure size 432x288 with 1 Axes>"
            ]
          },
          "metadata": {
            "needs_background": "light"
          }
        }
      ]
    },
    {
      "cell_type": "code",
      "metadata": {
        "id": "tiNbt-QyyqHH"
      },
      "source": [
        "lamb = 0.5  # можно поварьировать параметр регуляризации и посмотреть, что будет"
      ],
      "execution_count": 20,
      "outputs": []
    },
    {
      "cell_type": "code",
      "metadata": {
        "id": "kSLt4oQdyvTp"
      },
      "source": [
        "init_Theta1 = np.random.uniform(-0.12, 0.12, (HIDDEN_LAYER_SIZE, X.shape[1] + 1))\n",
        "init_Theta2 = np.random.uniform(-0.12, 0.12, (10, HIDDEN_LAYER_SIZE + 1))"
      ],
      "execution_count": 21,
      "outputs": []
    },
    {
      "cell_type": "code",
      "metadata": {
        "id": "_6VzmxPAyvQ0"
      },
      "source": [
        "init_theta = np.concatenate((init_Theta1, init_Theta2), axis=None)"
      ],
      "execution_count": 22,
      "outputs": []
    },
    {
      "cell_type": "code",
      "metadata": {
        "id": "0jeD0l0UyvN0"
      },
      "source": [
        "back_prop_grad = compute_cost_grad(X[:10], y[:10], init_theta, 0)"
      ],
      "execution_count": 23,
      "outputs": []
    },
    {
      "cell_type": "code",
      "metadata": {
        "colab": {
          "base_uri": "https://localhost:8080/"
        },
        "id": "LtcT8EQdy0S5",
        "outputId": "f9928409-dd22-4c32-bab7-9a8a243cfbcc"
      },
      "source": [
        "print('Запуск численного расчета градиента (может занять какое-то время)')\n",
        "num_grad = compute_cost_grad_approx(X[:10], y[:10], init_theta, 0)"
      ],
      "execution_count": 27,
      "outputs": [
        {
          "output_type": "stream",
          "name": "stdout",
          "text": [
            "Запуск численного расчета градиента (может занять какое-то время)\n",
            "0.0%\n",
            "5.03%\n",
            "10.06%\n",
            "15.09%\n",
            "20.12%\n",
            "25.14%\n",
            "30.17%\n",
            "35.2%\n",
            "40.23%\n",
            "45.26%\n",
            "50.29%\n",
            "55.32%\n",
            "60.35%\n",
            "65.38%\n",
            "70.4%\n",
            "75.43%\n",
            "80.46%\n",
            "85.49%\n",
            "90.52%\n",
            "95.55%\n"
          ]
        }
      ]
    },
    {
      "cell_type": "code",
      "metadata": {
        "colab": {
          "base_uri": "https://localhost:8080/"
        },
        "id": "ijKUZfley0Jv",
        "outputId": "378de54c-90d4-4fb1-fb82-cc7b446f7421"
      },
      "source": [
        "print('Градиент, посчитанный аналитически: ')\n",
        "print(back_prop_grad)"
      ],
      "execution_count": 25,
      "outputs": [
        {
          "output_type": "stream",
          "name": "stdout",
          "text": [
            "Градиент, посчитанный аналитически: \n",
            "[-0.00042459  0.00042459  0.00042459 ...  0.22526784  0.06692487\n",
            "  0.05524189]\n"
          ]
        }
      ]
    },
    {
      "cell_type": "code",
      "metadata": {
        "colab": {
          "base_uri": "https://localhost:8080/"
        },
        "id": "UcfnkA0Qy2M0",
        "outputId": "8cc39e53-7c16-4723-aa25-309939baab7c"
      },
      "source": [
        "print('Градиент, посчитанный численно (должен примерно совпадать с предыдущим): ')\n",
        "print(num_grad)"
      ],
      "execution_count": 28,
      "outputs": [
        {
          "output_type": "stream",
          "name": "stdout",
          "text": [
            "Градиент, посчитанный численно (должен примерно совпадать с предыдущим): \n",
            "[-0.00042459  0.00042459  0.00042459 ...  0.22526784  0.06692487\n",
            "  0.05524189]\n"
          ]
        }
      ]
    },
    {
      "cell_type": "code",
      "metadata": {
        "colab": {
          "base_uri": "https://localhost:8080/"
        },
        "id": "WeLr_z6Ey2Jw",
        "outputId": "8737828b-cf44-4580-d6d8-f469c65d71ba"
      },
      "source": [
        "print()\n",
        "print('Относительное отклоение градиентов (должно быть < 1e-7): ')\n",
        "print((np.linalg.norm(back_prop_grad - num_grad) / np.linalg.norm(back_prop_grad + num_grad)))"
      ],
      "execution_count": 30,
      "outputs": [
        {
          "output_type": "stream",
          "name": "stdout",
          "text": [
            "\n",
            "Относительное отклоение градиентов (должно быть < 1e-7): \n",
            "2.2472951624451763e-09\n"
          ]
        }
      ]
    },
    {
      "cell_type": "code",
      "metadata": {
        "colab": {
          "base_uri": "https://localhost:8080/"
        },
        "id": "LY8O2FVjy5XM",
        "outputId": "5d8095cf-3541-463a-92ab-78f250cf2ad4"
      },
      "source": [
        "print()\n",
        "print('Запуск оптимизации параметров сети (может занять какое-то время)')\n",
        "opt_theta_obj = minimize(lambda th: compute_cost(X, y, th, lamb), init_theta,\n",
        "                         method='CG',\n",
        "                         jac=lambda th: compute_cost_grad(X, y, th, lamb),\n",
        "                         options={'gtol': 1e-3, 'maxiter': 3000, 'disp': False})"
      ],
      "execution_count": 31,
      "outputs": [
        {
          "output_type": "stream",
          "name": "stdout",
          "text": [
            "\n",
            "Запуск оптимизации параметров сети (может занять какое-то время)\n"
          ]
        }
      ]
    },
    {
      "cell_type": "code",
      "metadata": {
        "colab": {
          "base_uri": "https://localhost:8080/"
        },
        "id": "VuhUo-nSy8QA",
        "outputId": "533d1a4f-dcff-4be6-8a14-346cebb05ca5"
      },
      "source": [
        "print('Минимизация функции стоимости ' + ('прошла успешно.' if opt_theta_obj.success else 'не удалась.'))"
      ],
      "execution_count": 32,
      "outputs": [
        {
          "output_type": "stream",
          "name": "stdout",
          "text": [
            "Минимизация функции стоимости прошла успешно.\n"
          ]
        }
      ]
    },
    {
      "cell_type": "code",
      "metadata": {
        "colab": {
          "base_uri": "https://localhost:8080/"
        },
        "id": "MUgTwlZBy-BL",
        "outputId": "fe9a9a67-2ef4-4c00-9a37-2e3e9c64cd0a"
      },
      "source": [
        "opt_theta = opt_theta_obj.x\n",
        "print('Функция стоимости при оптимальных параметрах (должна быть < 0.5): ')\n",
        "print(compute_cost(X, y, opt_theta, lamb))"
      ],
      "execution_count": 33,
      "outputs": [
        {
          "output_type": "stream",
          "name": "stdout",
          "text": [
            "Функция стоимости при оптимальных параметрах (должна быть < 0.5): \n",
            "0.30689824768673385\n"
          ]
        }
      ]
    },
    {
      "cell_type": "code",
      "metadata": {
        "id": "NEehfuV2y9-D"
      },
      "source": [
        "hypos_train = compute_hypothesis(X, opt_theta)[0]"
      ],
      "execution_count": 34,
      "outputs": []
    },
    {
      "cell_type": "code",
      "metadata": {
        "colab": {
          "base_uri": "https://localhost:8080/"
        },
        "id": "_0tbFKy1y97s",
        "outputId": "07325b53-b5e5-4454-9f15-384bd569d926"
      },
      "source": [
        "true_preds_train_num = 0\n",
        "for k in range(hypos_train.shape[0]):\n",
        "    max_el = np.max(hypos_train[k, :])\n",
        "    true_preds_train_num += list(np.array(hypos_train[k, :] == max_el, dtype=np.int32)) == list(one_hot_encode(y[k]))\n",
        "print('Доля верно распознаных цифр в обучающем наборе:', true_preds_train_num / hypos_train.shape[0] * 100, '%')"
      ],
      "execution_count": 35,
      "outputs": [
        {
          "output_type": "stream",
          "name": "stdout",
          "text": [
            "Доля верно распознаных цифр в обучающем наборе: 99.8 %\n"
          ]
        }
      ]
    },
    {
      "cell_type": "code",
      "metadata": {
        "id": "I4WlR-lgzBdZ"
      },
      "source": [
        "hypos_test = compute_hypothesis(X_test, opt_theta)[0]"
      ],
      "execution_count": 36,
      "outputs": []
    },
    {
      "cell_type": "code",
      "metadata": {
        "colab": {
          "base_uri": "https://localhost:8080/"
        },
        "id": "TvDfCl_KzBZs",
        "outputId": "063218d4-adf6-442f-9853-8eb0b24ac4d8"
      },
      "source": [
        "true_preds_test_num = 0\n",
        "for k in range(hypos_test.shape[0]):\n",
        "    max_el = np.max(hypos_test[k, :])\n",
        "    true_preds_test_num += list(np.array(hypos_test[k, :] == max_el, dtype=np.int32)) == list(one_hot_encode(y_test[k]))\n",
        "print('Доля верно распознаных цифр в тестовом наборе:', true_preds_test_num / hypos_test.shape[0] * 100, '%')"
      ],
      "execution_count": 37,
      "outputs": [
        {
          "output_type": "stream",
          "name": "stdout",
          "text": [
            "Доля верно распознаных цифр в тестовом наборе: 78.0 %\n"
          ]
        }
      ]
    },
    {
      "cell_type": "code",
      "metadata": {
        "colab": {
          "base_uri": "https://localhost:8080/",
          "height": 269
        },
        "id": "Vn7xTbl0yHoo",
        "outputId": "8363919e-462a-4efc-d92f-42c65abe79e1"
      },
      "source": [
        "if HIDDEN_LAYER_SIZE ** 0.5 % 1.0 == 0:\n",
        "    Theta1 = opt_theta[:HIDDEN_LAYER_SIZE * (X.shape[1] + 1)].reshape(HIDDEN_LAYER_SIZE, X.shape[1] + 1)\n",
        "    Theta1 = Theta1[:, 1:]\n",
        "    Theta1 = (Theta1 - Theta1.mean(axis=0)) / (Theta1.std(axis=0))\n",
        "    Theta1 = Theta1.reshape(HIDDEN_LAYER_SIZE, 28, 28)\n",
        "    im_size = int(features.shape[1] ** 0.5)\n",
        "    size_imgs = int(HIDDEN_LAYER_SIZE ** 0.5)\n",
        "    hm = np.zeros((im_size * size_imgs, im_size * size_imgs))\n",
        "    for i in range(HIDDEN_LAYER_SIZE):\n",
        "        im_x = i % size_imgs * im_size\n",
        "        im_y = i // size_imgs * im_size\n",
        "        for j in range(features.shape[1]):\n",
        "            px_x = im_x + j % im_size\n",
        "            px_y = im_y + j // im_size\n",
        "            hm[size_imgs * im_size - 1 - px_x, px_y] = Theta1[i, j % im_size, j // im_size]\n",
        "    plt.pcolor(hm, cmap='Greys')\n",
        "    plt.show()\n"
      ],
      "execution_count": 38,
      "outputs": [
        {
          "output_type": "display_data",
          "data": {
            "image/png": "[encoded data removed]",
            "text/plain": [
              "<Figure size 432x288 with 1 Axes>"
            ]
          },
          "metadata": {
            "needs_background": "light"
          }
        }
      ]
    }
  ]
}