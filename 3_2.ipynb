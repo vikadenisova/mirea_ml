{
  "nbformat": 4,
  "nbformat_minor": 0,
  "metadata": {
    "colab": {
      "name": "3_2.ipynb",
      "provenance": [],
      "collapsed_sections": [],
      "authorship_tag": "ABX9TyM/hI3X3QlsUNI3E4v5cZyL",
      "include_colab_link": true
    },
    "kernelspec": {
      "name": "python3",
      "display_name": "Python 3"
    },
    "language_info": {
      "name": "python"
    },
    "accelerator": "GPU"
  },
  "cells": [
    {
      "cell_type": "markdown",
      "metadata": {
        "id": "view-in-github",
        "colab_type": "text"
      },
      "source": [
        "<a href=\"https://colab.research.google.com/github/vikadenisova/mirea_ml/blob/main/3_2.ipynb\" target=\"_parent\"><img src=\"https://colab.research.google.com/assets/colab-badge.svg\" alt=\"Open In Colab\"/></a>"
      ]
    },
    {
      "cell_type": "code",
      "execution_count": 4,
      "metadata": {
        "colab": {
          "base_uri": "https://localhost:8080/",
          "height": 538
        },
        "id": "O4iY7UqufSIp",
        "outputId": "ebe40117-0e22-4c98-f639-87e59c9ae161"
      },
      "outputs": [
        {
          "output_type": "stream",
          "name": "stdout",
          "text": [
            "Files already downloaded and verified\n",
            "Files already downloaded and verified\n",
            "Эпоха 1 завершилась с функцией стоимости на последнем пакете = 0.7518454790115356\n",
            "Эпоха 2 завершилась с функцией стоимости на последнем пакете = 0.7866708040237427\n",
            "Эпоха 3 завершилась с функцией стоимости на последнем пакете = 0.5651824474334717\n",
            "Эпоха 4 завершилась с функцией стоимости на последнем пакете = 0.696013331413269\n",
            "Эпоха 5 завершилась с функцией стоимости на последнем пакете = 0.7479017972946167\n",
            "Эпоха 6 завершилась с функцией стоимости на последнем пакете = 0.8840279579162598\n",
            "Эпоха 7 завершилась с функцией стоимости на последнем пакете = 0.8710098266601562\n",
            "Эпоха 8 завершилась с функцией стоимости на последнем пакете = 0.8215755224227905\n",
            "Эпоха 9 завершилась с функцией стоимости на последнем пакете = 0.676713228225708\n",
            "Эпоха 10 завершилась с функцией стоимости на последнем пакете = 1.0515307188034058\n"
          ]
        },
        {
          "output_type": "display_data",
          "data": {
            "text/plain": [
              "<Figure size 432x288 with 1 Axes>"
            ],
            "image/png": "[encoded data removed]"
          },
          "metadata": {
            "needs_background": "light"
          }
        },
        {
          "output_type": "stream",
          "name": "stdout",
          "text": [
            "Точность (accuracy) на обучающей выборке: 0.7734375\n",
            "Точность (accuracy) на тестовой выборке: 0.71875\n"
          ]
        }
      ],
      "source": [
        "from torchvision.models.googlenet import googlenet\n",
        "# Импортируем основные модули pytorch\n",
        "import torch\n",
        "import torch.nn as nn\n",
        "from torch.utils.data import DataLoader\n",
        "\n",
        "# Импортируем модули, связанные с компьютерным зрением\n",
        "from torchvision import datasets\n",
        "import torchvision.transforms as T  # пакет transforms будет доступен под именем T\n",
        "from torchvision.models import googlenet  # импортируем модель googlenet\n",
        "\n",
        "# Импортируем вспомогательные модули\n",
        "from sklearn.metrics import accuracy_score\n",
        "import matplotlib.pyplot as plt\n",
        "\n",
        "\n",
        "# В данной лабораторной работе предлагается дообучить предобученные модели на уже известном нам наборе CIFAR10.\n",
        "# В этой части предлагается поработать с архитектурой GoogleNet.\n",
        "# Необходимо:\n",
        "# 1. Подготовить изображения (см. ниже);\n",
        "# 2. \"Заморозить\" веса предобученной модели;\n",
        "# 3. Заменить последний слой для соответствия размерности выхода 10-яти классам;\n",
        "# 4. Дообучить модель.\n",
        "\n",
        "model = googlenet(pretrained=True)  # загружаем модель с предобученными весами\n",
        "# Здесь необходимо выполнить 2-ой и 3-ий пункты.\n",
        "# ВАШ КОД ЗДЕСЬ\n",
        "\n",
        "for param in model.parameters():\n",
        "    param.requires_grad = False\n",
        "\n",
        "model.fc= nn.Dropout(p=0.5, inplace=False)\n",
        "model.fc= nn.Linear(in_features=1024, out_features=10, bias=True)\n",
        "model.fc.requires_grad = True\n",
        "\n",
        "\n",
        "# ===============\n",
        "\n",
        "# Последовательность преобразований исходных изображений. Нужно заполнить.\n",
        "# Смысл этих преобразований в том, чтобы привести входные изображения из набора CIFAR10 к тому виду, который был у\n",
        "# изображений из набора, на котором была предобучена сеть. А именно:\n",
        "# 1. Картинки 3-ех канальные с размером 224 х 224 пикселей.\n",
        "# 2. Картики должны быть преобразованы в тензор и иметь цветовые компоненты на отрезке [0; 1].\n",
        "# 3. Среднее по цветовым каналам должно быть [0.485, 0.456, 0.406], а среднеквадратическое отклонение [0.229, 0.224, 0.225].\n",
        "# Посмотрите документацию по классам Compose, Resize, CenterCrop, ToTensor, Normalize из пакета torchvision.transforms.\n",
        "transform = T.Compose([\n",
        "    T.Resize(256),\n",
        "    T.CenterCrop(224),\n",
        "    T.ToTensor(),\n",
        "    T.Normalize(mean=[0.485, 0.456, 0.406], std=[0.229, 0.224, 0.225]),\n",
        "])\n",
        "\n",
        "# Задаем количество эпох (проходов по всей обучающей выборке) и размер пакета, можно варьировать\n",
        "EPOCHS = 10\n",
        "BATCH_SIZE = 256\n",
        "\n",
        "# Загружаем данные из набора CIFAR10\n",
        "train_data = datasets.CIFAR10(root='./data/train', train=True, download=True, transform=transform)\n",
        "test_data = datasets.CIFAR10(root='./data/test', train=False, download=True, transform=transform)\n",
        "\n",
        "# DataLoader позволяет разбить выборку на пакеты заданного размера.\n",
        "# Параметр shuffle отвечает за перемешивание данных в пакете\n",
        "train_loader = DataLoader(train_data, batch_size=BATCH_SIZE, shuffle=True)\n",
        "\n",
        "# Если графический ускоритель поддерживает обучение на нем, будем использовать его,\n",
        "# иначе обучать на процессоре.\n",
        "device = 'cuda'\n",
        "\n",
        "# Готовимся к обучению\n",
        "model = model.to(device)  # переносим модель на доступное устройство\n",
        "optimizer = torch.optim.Adam(model.parameters(), lr=0.01)  # оптимизатор, нужно выбрать и настроить\n",
        "loss_function = nn.CrossEntropyLoss()  # функция потерь, нужно выбрать\n",
        "loss_history = list()  # список для хранения истории изменения функции стоимости\n",
        "\n",
        "# Начинаем обучение\n",
        "for epoch in range(EPOCHS):\n",
        "    for i, (batch, labels) in enumerate(train_loader):  # разбиваем выборку на пакеты\n",
        "        # Нужно реализовать один шаг градиентного спуска\n",
        "        optimizer.zero_grad()\n",
        "        loss = loss_function(model(batch.to(device)), labels.to(device)) # значение функции стоимости на пакете, нужно рассчитать\n",
        "        loss.backward()\n",
        "        optimizer.step() \n",
        "        loss_history.append(loss.log().item())  # добавляется логарифм стоимости для большей наглядности\n",
        "    print(f'Эпоха {epoch + 1} завершилась с функцией стоимости на последнем пакете = {loss.item()}')\n",
        "\n",
        "\n",
        "\n",
        "# Выводим график функции стоимости\n",
        "plt.title('Зависимость функции стоимости от номера шага градиентного спуска')\n",
        "plt.xlabel('Номер шага')\n",
        "plt.ylabel('Функция стоимости')\n",
        "plt.plot(loss_history)\n",
        "plt.show()\n",
        "\n",
        "# Отключаем расчет вычислительного графа для экономии времени и памяти: нам не нужно считать градиенты при тестировании модели\n",
        "with torch.no_grad():\n",
        "    # Оцениваем качество модели\n",
        "    train_data_loader = DataLoader(train_data, batch_size=256)\n",
        "    train_features, train_targets = next(iter(train_data_loader))\n",
        "\n",
        "    train_features = train_features.to(device)\n",
        "    train_model_predictions = torch.argmax(model(train_features), dim=1)\n",
        "    print('Точность (accuracy) на обучающей выборке:', accuracy_score(train_targets.cpu(), train_model_predictions.cpu()))\n",
        "\n",
        "    test_data_loader = DataLoader(test_data, batch_size=256)\n",
        "    test_features, test_targets = next(iter(test_data_loader))\n",
        "\n",
        "    test_features = test_features.to(device)\n",
        "    test_model_predictions = torch.argmax(model(test_features), dim=1)\n",
        "    print('Точность (accuracy) на тестовой выборке:', accuracy_score(test_targets.cpu(), test_model_predictions.cpu()))"
      ]
    }
  ]
}