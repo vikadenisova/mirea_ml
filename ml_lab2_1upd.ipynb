{
  "nbformat": 4,
  "nbformat_minor": 0,
  "metadata": {
    "colab": {
      "name": "ml_lab2_1.ipynb",
      "provenance": [],
      "authorship_tag": "ABX9TyP2vqutlsowdWd5rgJH9tQn",
      "include_colab_link": true
    },
    "kernelspec": {
      "name": "python3",
      "display_name": "Python 3"
    },
    "language_info": {
      "name": "python"
    }
  },
  "cells": [
    {
      "cell_type": "markdown",
      "metadata": {
        "id": "view-in-github",
        "colab_type": "text"
      },
      "source": [
        "<a href=\"https://colab.research.google.com/github/vikadenisova/mirea_ml/blob/main/ml_lab2_1upd.ipynb\" target=\"_parent\"><img src=\"https://colab.research.google.com/assets/colab-badge.svg\" alt=\"Open In Colab\"/></a>"
      ]
    },
    {
      "cell_type": "code",
      "execution_count": 8,
      "metadata": {
        "colab": {
          "base_uri": "https://localhost:8080/",
          "height": 625
        },
        "id": "cXAXsYi3Icu_",
        "outputId": "57f14d67-b206-4d2c-95f4-5be8b9e4b270"
      },
      "outputs": [
        {
          "output_type": "stream",
          "name": "stdout",
          "text": [
            "Files already downloaded and verified\n",
            "Files already downloaded and verified\n",
            "Эпоха 1 завершилась с функцией стоимости на последнем пакете = 1.5123448371887207\n",
            "Эпоха 2 завершилась с функцией стоимости на последнем пакете = 1.6371777057647705\n",
            "Эпоха 3 завершилась с функцией стоимости на последнем пакете = 1.3955092430114746\n",
            "Эпоха 4 завершилась с функцией стоимости на последнем пакете = 1.3556199073791504\n",
            "Эпоха 5 завершилась с функцией стоимости на последнем пакете = 1.25068998336792\n",
            "Эпоха 6 завершилась с функцией стоимости на последнем пакете = 1.2663651704788208\n",
            "Эпоха 7 завершилась с функцией стоимости на последнем пакете = 1.1370782852172852\n",
            "Эпоха 8 завершилась с функцией стоимости на последнем пакете = 1.1333484649658203\n",
            "Эпоха 9 завершилась с функцией стоимости на последнем пакете = 0.982454776763916\n",
            "Эпоха 10 завершилась с функцией стоимости на последнем пакете = 1.193854808807373\n",
            "Эпоха 11 завершилась с функцией стоимости на последнем пакете = 1.0569474697113037\n",
            "Эпоха 12 завершилась с функцией стоимости на последнем пакете = 0.8738328814506531\n",
            "Эпоха 13 завершилась с функцией стоимости на последнем пакете = 1.1875145435333252\n",
            "Эпоха 14 завершилась с функцией стоимости на последнем пакете = 0.9358433485031128\n",
            "Эпоха 15 завершилась с функцией стоимости на последнем пакете = 0.8975808024406433\n"
          ]
        },
        {
          "output_type": "display_data",
          "data": {
            "text/plain": [
              "<Figure size 432x288 with 1 Axes>"
            ],
            "image/png": "[encoded data removed]"
          },
          "metadata": {
            "needs_background": "light"
          }
        },
        {
          "output_type": "stream",
          "name": "stdout",
          "text": [
            "Точность (accuracy) на обучающей выборке: 0.68442\n",
            "Точность (accuracy) на тестовой выборке: 0.5289\n"
          ]
        }
      ],
      "source": [
        "# Импортируем основные модули pytorch\n",
        "import torch\n",
        "import torch.nn as nn\n",
        "from torch.utils.data import DataLoader\n",
        "\n",
        "# Импортируем модули, связанные с компьютерным зрением\n",
        "from torchvision import datasets\n",
        "from torchvision.transforms import ToTensor\n",
        "\n",
        "# Импортируем вспомогательные модули\n",
        "from sklearn.metrics import accuracy_score\n",
        "import matplotlib.pyplot as plt\n",
        "\n",
        "\n",
        "# В данной лабораторной работе вам необходимо обучить две сети с архитектурой,\n",
        "# которую вам необходимо разработать самостоятельно.\n",
        "# В этой части предлагается реализовать полносвязную сеть без использования сверточных слоев.\n",
        "# Поэкспериментируйте с использованием слоев пакетной нормализации и дропаута.\n",
        "# Сравните точность на тестовой выборке с аналогичными результатами одногруппников.\n",
        "class FCNet(nn.Module):\n",
        "\n",
        "    def __init__(self):\n",
        "        super().__init__()\n",
        "        self.classifier = nn.Sequential(\n",
        "            nn.Linear(32 * 32 * 3, 128),\n",
        "            nn.BatchNorm1d(128),\n",
        "            nn.Dropout(p=0.1),\n",
        "            nn.ReLU(),\n",
        "            nn.Linear(128, 64),\n",
        "            nn.BatchNorm1d(64),\n",
        "            nn.Dropout(p=0.1),\n",
        "            nn.ReLU(),\n",
        "            nn.Linear(64, 10)\n",
        "        )\n",
        "\n",
        "        # ===============\n",
        "\n",
        "    # Метод для выполнения прямого распространения сигнала, необходимо заполнить\n",
        "    def forward(self, x):\n",
        "      \n",
        "      return self.classifier(x)\n",
        "        \n",
        "        # ===============\n",
        "\n",
        "# Задаем количество эпох (проходов по всей обучающей выборке) и размер пакета, можно варьировать\n",
        "EPOCHS = 15\n",
        "BATCH_SIZE = 256\n",
        "\n",
        "# Загружаем данные из набора CIFAR10\n",
        "train_data = datasets.CIFAR10(root='./data/train', train=True, download=True, transform=ToTensor())\n",
        "test_data = datasets.CIFAR10(root='./data/test', train=False, download=True, transform=ToTensor())\n",
        "\n",
        "\n",
        "# DataLoader позволяет разбить выборку на пакеты заданного размера.\n",
        "# Параметр shuffle отвечает за перемешивание данных в пакете\n",
        "train_loader = DataLoader(train_data, batch_size=BATCH_SIZE, shuffle=True)\n",
        "\n",
        "# Если графический ускоритель поддерживает обучение на нем, будем использовать его,\n",
        "# иначе обучать на процессоре.\n",
        "device = 'cuda' if torch.cuda.is_available() else 'cpu'\n",
        "\n",
        "# Готовимся к обучению\n",
        "model = FCNet().to(device)  # создаем модель\n",
        "optimizer = torch.optim.Adam(model.parameters(), lr=0.001)  # оптимизатор, нужно выбрать и настроить\n",
        "loss_function = nn.CrossEntropyLoss()  # функция потерь, нужно выбрать\n",
        "loss_history = list()  # список для хранения истории изменения функции стоимости\n",
        "\n",
        "# Начинаем обучение\n",
        "for epoch in range(EPOCHS):\n",
        "    for i, (batch, labels) in enumerate(train_loader):  # разбиваем выборку на пакеты\n",
        "        # Нужно реализовать один шаг градиентного спуска\n",
        "        batch = batch.reshape(batch.shape[0], -1)\n",
        "        optimizer.zero_grad()\n",
        "        loss = loss_function(model(batch), labels) # значение функции стоимости на пакете, нужно рассчитать\n",
        "        loss.backward()\n",
        "        optimizer.step() \n",
        "        loss_history.append(loss.log().item())  # добавляется логарифм стоимости для большей наглядности\n",
        "    print(f'Эпоха {epoch + 1} завершилась с функцией стоимости на последнем пакете = {loss.item()}')\n",
        "\n",
        "\n",
        "# Выводим график функции стоимости\n",
        "plt.title('Зависимость функции стоимости от номера шага градиентного спуска')\n",
        "plt.xlabel('Номер шага')\n",
        "plt.ylabel('Функция стоимости')\n",
        "plt.plot(loss_history)\n",
        "plt.show()\n",
        "\n",
        "# Отключаем расчет вычислительного графа для экономии времени и памяти: нам не нужно считать градиенты при тестировании модели\n",
        "with torch.no_grad():\n",
        "    # Оцениваем качество модели\n",
        "    train_data_loader = DataLoader(train_data, batch_size=len(train_data))\n",
        "    train_features, train_targets = next(iter(train_data_loader))\n",
        "\n",
        "    train_features = train_features.reshape(len(train_data), -1).to(device)\n",
        "    train_model_predictions = torch.argmax(model(train_features), dim=1)\n",
        "    print('Точность (accuracy) на обучающей выборке:', accuracy_score(train_data.targets, train_model_predictions.cpu()))\n",
        "\n",
        "    test_data_loader = DataLoader(test_data, batch_size=len(test_data))\n",
        "    test_features, test_targets = next(iter(test_data_loader))\n",
        "\n",
        "    test_features = test_features.reshape(len(test_data), -1).to(device)\n",
        "    test_model_predictions = torch.argmax(model(test_features), dim=1)\n",
        "    print('Точность (accuracy) на тестовой выборке:', accuracy_score(test_data.targets, test_model_predictions.cpu()))"
      ]
    }
  ]
}